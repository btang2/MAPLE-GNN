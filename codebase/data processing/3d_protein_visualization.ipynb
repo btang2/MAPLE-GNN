{
 "cells": [
  {
   "cell_type": "code",
   "execution_count": 10,
   "metadata": {},
   "outputs": [],
   "source": [
    "import matplotlib.pyplot as plt\n",
    "import py3Dmol\n",
    "def visualize_protein(ID, chains):\n",
    "    view = py3Dmol.view(width=800,height=800, query='pdb:' + str(ID))\n",
    "    view.setStyle({'cartoon': {'color': 'spectrum'}})\n",
    "    pltcolors = [\"#1f77b4\", \"#ff7f0e\", \"#2ca02c\", \"#d62728\", \"#9467bd\", \"#8c564b\", \"#e377c2\", \"#7f7f7f\", \"#bcbd22\", \"#17becf\"]\n",
    "    #graphvisualcolors = [\"#cc6699\", \"#cccccc\", \"#cccccc\", \"#cccccc\", \"#cccccc\", \"#cccccc\", \"#cccccc\"] for chain highlighting\n",
    "    #graphopacity = [1, 0.5, 0.5, 0.5, 0.5, 0.5, 0.5, 0.5]\n",
    "    for i in range(len(chains)):\n",
    "        view.setStyle({'chain': chains[i]}, {'cartoon': {'color': pltcolors[i]}}) #'cartoon': {'color': graphvisualcolors[i], 'opacity': graphopacity[i]}\n",
    "    view.addSurface(py3Dmol.VDW, {'opacity': 0.4})\n",
    "    view.show()\n"
   ]
  },
  {
   "cell_type": "code",
   "execution_count": null,
   "metadata": {},
   "outputs": [],
   "source": [
    "ID = \"1a3n\" #Hemoglobin\n",
    "chains = ['A', 'B', 'C', 'D'] #chains of hemoglobin\n",
    "visualize_protein(ID=ID, chains=chains)"
   ]
  },
  {
   "cell_type": "code",
   "execution_count": 11,
   "metadata": {},
   "outputs": [
    {
     "data": {
      "application/3dmoljs_load.v0": "<div id=\"3dmolviewer_17220287242994168\"  style=\"position: relative; width: 800px; height: 800px;\">\n        <p id=\"3dmolwarning_17220287242994168\" style=\"background-color:#ffcccc;color:black\">3Dmol.js failed to load for some reason.  Please check your browser console for error messages.<br></p>\n        </div>\n<script>\n\nvar loadScriptAsync = function(uri){\n  return new Promise((resolve, reject) => {\n    //this is to ignore the existence of requirejs amd\n    var savedexports, savedmodule;\n    if (typeof exports !== 'undefined') savedexports = exports;\n    else exports = {}\n    if (typeof module !== 'undefined') savedmodule = module;\n    else module = {}\n\n    var tag = document.createElement('script');\n    tag.src = uri;\n    tag.async = true;\n    tag.onload = () => {\n        exports = savedexports;\n        module = savedmodule;\n        resolve();\n    };\n  var firstScriptTag = document.getElementsByTagName('script')[0];\n  firstScriptTag.parentNode.insertBefore(tag, firstScriptTag);\n});\n};\n\nif(typeof $3Dmolpromise === 'undefined') {\n$3Dmolpromise = null;\n  $3Dmolpromise = loadScriptAsync('https://cdnjs.cloudflare.com/ajax/libs/3Dmol/2.1.0/3Dmol-min.js');\n}\n\nvar viewer_17220287242994168 = null;\nvar warn = document.getElementById(\"3dmolwarning_17220287242994168\");\nif(warn) {\n    warn.parentNode.removeChild(warn);\n}\n$3Dmolpromise.then(function() {\nviewer_17220287242994168 = $3Dmol.createViewer(document.getElementById(\"3dmolviewer_17220287242994168\"),{backgroundColor:\"white\"});\n$3Dmol.download(\"pdb:3i40\", viewer_17220287242994168, {}, function() {\nviewer_17220287242994168.zoomTo();\n\tviewer_17220287242994168.setStyle({\"cartoon\": {\"color\": \"spectrum\"}});\n\tviewer_17220287242994168.setStyle({\"chain\": \"A\"},{\"cartoon\": {\"color\": \"#1f77b4\"}});\n\tviewer_17220287242994168.setStyle({\"chain\": \"B\"},{\"cartoon\": {\"color\": \"#ff7f0e\"}});\n\tviewer_17220287242994168.addSurface(1,{\"opacity\": 0.4});\nviewer_17220287242994168.render();\n})\n});\n</script>",
      "text/html": [
       "<div id=\"3dmolviewer_17220287242994168\"  style=\"position: relative; width: 800px; height: 800px;\">\n",
       "        <p id=\"3dmolwarning_17220287242994168\" style=\"background-color:#ffcccc;color:black\">3Dmol.js failed to load for some reason.  Please check your browser console for error messages.<br></p>\n",
       "        </div>\n",
       "<script>\n",
       "\n",
       "var loadScriptAsync = function(uri){\n",
       "  return new Promise((resolve, reject) => {\n",
       "    //this is to ignore the existence of requirejs amd\n",
       "    var savedexports, savedmodule;\n",
       "    if (typeof exports !== 'undefined') savedexports = exports;\n",
       "    else exports = {}\n",
       "    if (typeof module !== 'undefined') savedmodule = module;\n",
       "    else module = {}\n",
       "\n",
       "    var tag = document.createElement('script');\n",
       "    tag.src = uri;\n",
       "    tag.async = true;\n",
       "    tag.onload = () => {\n",
       "        exports = savedexports;\n",
       "        module = savedmodule;\n",
       "        resolve();\n",
       "    };\n",
       "  var firstScriptTag = document.getElementsByTagName('script')[0];\n",
       "  firstScriptTag.parentNode.insertBefore(tag, firstScriptTag);\n",
       "});\n",
       "};\n",
       "\n",
       "if(typeof $3Dmolpromise === 'undefined') {\n",
       "$3Dmolpromise = null;\n",
       "  $3Dmolpromise = loadScriptAsync('https://cdnjs.cloudflare.com/ajax/libs/3Dmol/2.1.0/3Dmol-min.js');\n",
       "}\n",
       "\n",
       "var viewer_17220287242994168 = null;\n",
       "var warn = document.getElementById(\"3dmolwarning_17220287242994168\");\n",
       "if(warn) {\n",
       "    warn.parentNode.removeChild(warn);\n",
       "}\n",
       "$3Dmolpromise.then(function() {\n",
       "viewer_17220287242994168 = $3Dmol.createViewer(document.getElementById(\"3dmolviewer_17220287242994168\"),{backgroundColor:\"white\"});\n",
       "$3Dmol.download(\"pdb:3i40\", viewer_17220287242994168, {}, function() {\n",
       "viewer_17220287242994168.zoomTo();\n",
       "\tviewer_17220287242994168.setStyle({\"cartoon\": {\"color\": \"spectrum\"}});\n",
       "\tviewer_17220287242994168.setStyle({\"chain\": \"A\"},{\"cartoon\": {\"color\": \"#1f77b4\"}});\n",
       "\tviewer_17220287242994168.setStyle({\"chain\": \"B\"},{\"cartoon\": {\"color\": \"#ff7f0e\"}});\n",
       "\tviewer_17220287242994168.addSurface(1,{\"opacity\": 0.4});\n",
       "viewer_17220287242994168.render();\n",
       "})\n",
       "});\n",
       "</script>"
      ]
     },
     "metadata": {},
     "output_type": "display_data"
    }
   ],
   "source": [
    "ID = \"3i40\" #Insulin\n",
    "chains = ['A', 'B'] #chains of insulin\n",
    "visualize_protein(ID=ID, chains=chains)"
   ]
  },
  {
   "cell_type": "code",
   "execution_count": 53,
   "metadata": {},
   "outputs": [
    {
     "data": {
      "application/3dmoljs_load.v0": "<div id=\"3dmolviewer_17217513071487045\"  style=\"position: relative; width: 800px; height: 800px;\">\n        <p id=\"3dmolwarning_17217513071487045\" style=\"background-color:#ffcccc;color:black\">3Dmol.js failed to load for some reason.  Please check your browser console for error messages.<br></p>\n        </div>\n<script>\n\nvar loadScriptAsync = function(uri){\n  return new Promise((resolve, reject) => {\n    //this is to ignore the existence of requirejs amd\n    var savedexports, savedmodule;\n    if (typeof exports !== 'undefined') savedexports = exports;\n    else exports = {}\n    if (typeof module !== 'undefined') savedmodule = module;\n    else module = {}\n\n    var tag = document.createElement('script');\n    tag.src = uri;\n    tag.async = true;\n    tag.onload = () => {\n        exports = savedexports;\n        module = savedmodule;\n        resolve();\n    };\n  var firstScriptTag = document.getElementsByTagName('script')[0];\n  firstScriptTag.parentNode.insertBefore(tag, firstScriptTag);\n});\n};\n\nif(typeof $3Dmolpromise === 'undefined') {\n$3Dmolpromise = null;\n  $3Dmolpromise = loadScriptAsync('https://cdnjs.cloudflare.com/ajax/libs/3Dmol/2.1.0/3Dmol-min.js');\n}\n\nvar viewer_17217513071487045 = null;\nvar warn = document.getElementById(\"3dmolwarning_17217513071487045\");\nif(warn) {\n    warn.parentNode.removeChild(warn);\n}\n$3Dmolpromise.then(function() {\nviewer_17217513071487045 = $3Dmol.createViewer(document.getElementById(\"3dmolviewer_17217513071487045\"),{backgroundColor:\"white\"});\n$3Dmol.download(\"pdb:2BHK\", viewer_17217513071487045, {}, function() {\nviewer_17217513071487045.zoomTo();\n\tviewer_17217513071487045.setStyle({\"cartoon\": {\"color\": \"spectrum\"}});\n\tviewer_17217513071487045.setStyle({\"chain\": \"A\"},{\"cartoon\": {\"color\": \"#cc6699\", \"opacity\": 1}});\n\tviewer_17217513071487045.addSurface(1,{\"opacity\": 0.4});\nviewer_17217513071487045.render();\n})\n});\n</script>",
      "text/html": [
       "<div id=\"3dmolviewer_17217513071487045\"  style=\"position: relative; width: 800px; height: 800px;\">\n",
       "        <p id=\"3dmolwarning_17217513071487045\" style=\"background-color:#ffcccc;color:black\">3Dmol.js failed to load for some reason.  Please check your browser console for error messages.<br></p>\n",
       "        </div>\n",
       "<script>\n",
       "\n",
       "var loadScriptAsync = function(uri){\n",
       "  return new Promise((resolve, reject) => {\n",
       "    //this is to ignore the existence of requirejs amd\n",
       "    var savedexports, savedmodule;\n",
       "    if (typeof exports !== 'undefined') savedexports = exports;\n",
       "    else exports = {}\n",
       "    if (typeof module !== 'undefined') savedmodule = module;\n",
       "    else module = {}\n",
       "\n",
       "    var tag = document.createElement('script');\n",
       "    tag.src = uri;\n",
       "    tag.async = true;\n",
       "    tag.onload = () => {\n",
       "        exports = savedexports;\n",
       "        module = savedmodule;\n",
       "        resolve();\n",
       "    };\n",
       "  var firstScriptTag = document.getElementsByTagName('script')[0];\n",
       "  firstScriptTag.parentNode.insertBefore(tag, firstScriptTag);\n",
       "});\n",
       "};\n",
       "\n",
       "if(typeof $3Dmolpromise === 'undefined') {\n",
       "$3Dmolpromise = null;\n",
       "  $3Dmolpromise = loadScriptAsync('https://cdnjs.cloudflare.com/ajax/libs/3Dmol/2.1.0/3Dmol-min.js');\n",
       "}\n",
       "\n",
       "var viewer_17217513071487045 = null;\n",
       "var warn = document.getElementById(\"3dmolwarning_17217513071487045\");\n",
       "if(warn) {\n",
       "    warn.parentNode.removeChild(warn);\n",
       "}\n",
       "$3Dmolpromise.then(function() {\n",
       "viewer_17217513071487045 = $3Dmol.createViewer(document.getElementById(\"3dmolviewer_17217513071487045\"),{backgroundColor:\"white\"});\n",
       "$3Dmol.download(\"pdb:2BHK\", viewer_17217513071487045, {}, function() {\n",
       "viewer_17217513071487045.zoomTo();\n",
       "\tviewer_17217513071487045.setStyle({\"cartoon\": {\"color\": \"spectrum\"}});\n",
       "\tviewer_17217513071487045.setStyle({\"chain\": \"A\"},{\"cartoon\": {\"color\": \"#cc6699\", \"opacity\": 1}});\n",
       "\tviewer_17217513071487045.addSurface(1,{\"opacity\": 0.4});\n",
       "viewer_17217513071487045.render();\n",
       "})\n",
       "});\n",
       "</script>"
      ]
     },
     "metadata": {},
     "output_type": "display_data"
    }
   ],
   "source": [
    "#ID = \"3mdy\" #interacting protein 1\n",
    "#chains = ['C', 'A', 'B', 'D'] #chains\n",
    "#visualize_protein(ID=ID, chains=chains) #color: 6699CC\n",
    "\n",
    "ID = \"2BHK\" #interacting protein 2\n",
    "chains = ['A']\n",
    "visualize_protein(ID=ID, chains=chains) #color\" CC6699"
   ]
  },
  {
   "cell_type": "code",
   "execution_count": 16,
   "metadata": {},
   "outputs": [
    {
     "data": {
      "application/3dmoljs_load.v0": "<div id=\"3dmolviewer_17216851228520174\"  style=\"position: relative; width: 800px; height: 800px;\">\n        <p id=\"3dmolwarning_17216851228520174\" style=\"background-color:#ffcccc;color:black\">3Dmol.js failed to load for some reason.  Please check your browser console for error messages.<br></p>\n        </div>\n<script>\n\nvar loadScriptAsync = function(uri){\n  return new Promise((resolve, reject) => {\n    //this is to ignore the existence of requirejs amd\n    var savedexports, savedmodule;\n    if (typeof exports !== 'undefined') savedexports = exports;\n    else exports = {}\n    if (typeof module !== 'undefined') savedmodule = module;\n    else module = {}\n\n    var tag = document.createElement('script');\n    tag.src = uri;\n    tag.async = true;\n    tag.onload = () => {\n        exports = savedexports;\n        module = savedmodule;\n        resolve();\n    };\n  var firstScriptTag = document.getElementsByTagName('script')[0];\n  firstScriptTag.parentNode.insertBefore(tag, firstScriptTag);\n});\n};\n\nif(typeof $3Dmolpromise === 'undefined') {\n$3Dmolpromise = null;\n  $3Dmolpromise = loadScriptAsync('https://cdnjs.cloudflare.com/ajax/libs/3Dmol/2.1.0/3Dmol-min.js');\n}\n\nvar viewer_17216851228520174 = null;\nvar warn = document.getElementById(\"3dmolwarning_17216851228520174\");\nif(warn) {\n    warn.parentNode.removeChild(warn);\n}\n$3Dmolpromise.then(function() {\nviewer_17216851228520174 = $3Dmol.createViewer(document.getElementById(\"3dmolviewer_17216851228520174\"),{backgroundColor:\"white\"});\n$3Dmol.download(\"pdb:8j7f\", viewer_17216851228520174, {}, function() {\nviewer_17216851228520174.zoomTo();\n\tviewer_17216851228520174.setStyle({\"cartoon\": {\"color\": \"spectrum\"}});\n\tviewer_17216851228520174.setStyle({\"chain\": \"A\"},{\"cartoon\": {\"color\": \"#1f77b4\"}});\n\tviewer_17216851228520174.setStyle({\"chain\": \"B\"},{\"cartoon\": {\"color\": \"#ff7f0e\"}});\n\tviewer_17216851228520174.setStyle({\"chain\": \"C\"},{\"cartoon\": {\"color\": \"#2ca02c\"}});\n\tviewer_17216851228520174.setStyle({\"chain\": \"D\"},{\"cartoon\": {\"color\": \"#d62728\"}});\n\tviewer_17216851228520174.addSurface(1,{\"opacity\": 0.5});\nviewer_17216851228520174.render();\n})\n});\n</script>",
      "text/html": [
       "<div id=\"3dmolviewer_17216851228520174\"  style=\"position: relative; width: 800px; height: 800px;\">\n",
       "        <p id=\"3dmolwarning_17216851228520174\" style=\"background-color:#ffcccc;color:black\">3Dmol.js failed to load for some reason.  Please check your browser console for error messages.<br></p>\n",
       "        </div>\n",
       "<script>\n",
       "\n",
       "var loadScriptAsync = function(uri){\n",
       "  return new Promise((resolve, reject) => {\n",
       "    //this is to ignore the existence of requirejs amd\n",
       "    var savedexports, savedmodule;\n",
       "    if (typeof exports !== 'undefined') savedexports = exports;\n",
       "    else exports = {}\n",
       "    if (typeof module !== 'undefined') savedmodule = module;\n",
       "    else module = {}\n",
       "\n",
       "    var tag = document.createElement('script');\n",
       "    tag.src = uri;\n",
       "    tag.async = true;\n",
       "    tag.onload = () => {\n",
       "        exports = savedexports;\n",
       "        module = savedmodule;\n",
       "        resolve();\n",
       "    };\n",
       "  var firstScriptTag = document.getElementsByTagName('script')[0];\n",
       "  firstScriptTag.parentNode.insertBefore(tag, firstScriptTag);\n",
       "});\n",
       "};\n",
       "\n",
       "if(typeof $3Dmolpromise === 'undefined') {\n",
       "$3Dmolpromise = null;\n",
       "  $3Dmolpromise = loadScriptAsync('https://cdnjs.cloudflare.com/ajax/libs/3Dmol/2.1.0/3Dmol-min.js');\n",
       "}\n",
       "\n",
       "var viewer_17216851228520174 = null;\n",
       "var warn = document.getElementById(\"3dmolwarning_17216851228520174\");\n",
       "if(warn) {\n",
       "    warn.parentNode.removeChild(warn);\n",
       "}\n",
       "$3Dmolpromise.then(function() {\n",
       "viewer_17216851228520174 = $3Dmol.createViewer(document.getElementById(\"3dmolviewer_17216851228520174\"),{backgroundColor:\"white\"});\n",
       "$3Dmol.download(\"pdb:8j7f\", viewer_17216851228520174, {}, function() {\n",
       "viewer_17216851228520174.zoomTo();\n",
       "\tviewer_17216851228520174.setStyle({\"cartoon\": {\"color\": \"spectrum\"}});\n",
       "\tviewer_17216851228520174.setStyle({\"chain\": \"A\"},{\"cartoon\": {\"color\": \"#1f77b4\"}});\n",
       "\tviewer_17216851228520174.setStyle({\"chain\": \"B\"},{\"cartoon\": {\"color\": \"#ff7f0e\"}});\n",
       "\tviewer_17216851228520174.setStyle({\"chain\": \"C\"},{\"cartoon\": {\"color\": \"#2ca02c\"}});\n",
       "\tviewer_17216851228520174.setStyle({\"chain\": \"D\"},{\"cartoon\": {\"color\": \"#d62728\"}});\n",
       "\tviewer_17216851228520174.addSurface(1,{\"opacity\": 0.5});\n",
       "viewer_17216851228520174.render();\n",
       "})\n",
       "});\n",
       "</script>"
      ]
     },
     "metadata": {},
     "output_type": "display_data"
    }
   ],
   "source": [
    "ID = \"8j7f\" #Ion Channel\n",
    "chains = ['A', 'B', 'C', 'D'] #chains of ion channel\n",
    "visualize_protein(ID=ID, chains=chains)"
   ]
  }
 ],
 "metadata": {
  "kernelspec": {
   "display_name": "Python 3",
   "language": "python",
   "name": "python3"
  },
  "language_info": {
   "codemirror_mode": {
    "name": "ipython",
    "version": 3
   },
   "file_extension": ".py",
   "mimetype": "text/x-python",
   "name": "python",
   "nbconvert_exporter": "python",
   "pygments_lexer": "ipython3",
   "version": "3.9.0"
  }
 },
 "nbformat": 4,
 "nbformat_minor": 2
}
