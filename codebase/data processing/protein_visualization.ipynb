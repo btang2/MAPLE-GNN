{
 "cells": [
  {
   "cell_type": "markdown",
   "metadata": {},
   "source": [
    "Due to constraints, it appears that PY3DMol can only be used within an IPython Notebook, so we shall use that to generate the 3d protein structure visualization from PDB file.\n",
    "Note that our visualization tool works for proteins with up to 10 different subunits."
   ]
  },
  {
   "cell_type": "code",
   "execution_count": 52,
   "metadata": {},
   "outputs": [],
   "source": [
    "import jupyterlab\n",
    "import matplotlib.pyplot as plt\n",
    "import py3Dmol\n",
    "def visualize_protein(ID, chains):\n",
    "    view = py3Dmol.view(width=800,height=800, query='pdb:' + str(ID))\n",
    "    view.setStyle({'cartoon': {'color': 'spectrum'}})\n",
    "    pltcolors = [\"#1f77b4\", \"#ff7f0e\", \"#2ca02c\", \"#d62728\", \"#9467bd\", \"#8c564b\", \"#e377c2\", \"#7f7f7f\", \"#bcbd22\", \"#17becf\"]\n",
    "     #manually chains of the molecule (ideally find a way to extract from pdb)\n",
    "    for i in range(len(chains)):\n",
    "        view.setStyle({'chain': chains[i]}, {'cartoon': {'color': pltcolors[i]}})\n",
    "    view.addSurface(py3Dmol.VDW, {'opacity': 0.4})\n",
    "    #view.setBackgroundColor(\"#EFEFFF\")\n",
    "    view.show()\n"
   ]
  },
  {
   "cell_type": "code",
   "execution_count": null,
   "metadata": {},
   "outputs": [],
   "source": [
    "ID = \"1a3n\" #Hemoglobin\n",
    "chains = ['A', 'B', 'C', 'D'] #chains of hemoglobin\n",
    "visualize_protein(ID=ID, chains=chains)"
   ]
  },
  {
   "cell_type": "code",
   "execution_count": null,
   "metadata": {},
   "outputs": [],
   "source": [
    "ID = \"3i40\" #Insulin\n",
    "chains = ['A', 'B'] #chains of insulin\n",
    "visualize_protein(ID=ID, chains=chains)"
   ]
  },
  {
   "cell_type": "code",
   "execution_count": null,
   "metadata": {},
   "outputs": [],
   "source": [
    "ID = \"1tup\" #P53 Tumor Suppressor\n",
    "chains = ['A', 'B', 'C'] #chains of insulin\n",
    "visualize_protein(ID=ID, chains=chains)"
   ]
  },
  {
   "cell_type": "code",
   "execution_count": 57,
   "metadata": {},
   "outputs": [
    {
     "data": {
      "application/3dmoljs_load.v0": "<div id=\"3dmolviewer_17195205051027367\"  style=\"position: relative; width: 800px; height: 800px;\">\n        <p id=\"3dmolwarning_17195205051027367\" style=\"background-color:#ffcccc;color:black\">3Dmol.js failed to load for some reason.  Please check your browser console for error messages.<br></p>\n        </div>\n<script>\n\nvar loadScriptAsync = function(uri){\n  return new Promise((resolve, reject) => {\n    //this is to ignore the existence of requirejs amd\n    var savedexports, savedmodule;\n    if (typeof exports !== 'undefined') savedexports = exports;\n    else exports = {}\n    if (typeof module !== 'undefined') savedmodule = module;\n    else module = {}\n\n    var tag = document.createElement('script');\n    tag.src = uri;\n    tag.async = true;\n    tag.onload = () => {\n        exports = savedexports;\n        module = savedmodule;\n        resolve();\n    };\n  var firstScriptTag = document.getElementsByTagName('script')[0];\n  firstScriptTag.parentNode.insertBefore(tag, firstScriptTag);\n});\n};\n\nif(typeof $3Dmolpromise === 'undefined') {\n$3Dmolpromise = null;\n  $3Dmolpromise = loadScriptAsync('https://cdnjs.cloudflare.com/ajax/libs/3Dmol/2.1.0/3Dmol-min.js');\n}\n\nvar viewer_17195205051027367 = null;\nvar warn = document.getElementById(\"3dmolwarning_17195205051027367\");\nif(warn) {\n    warn.parentNode.removeChild(warn);\n}\n$3Dmolpromise.then(function() {\nviewer_17195205051027367 = $3Dmol.createViewer(document.getElementById(\"3dmolviewer_17195205051027367\"),{backgroundColor:\"white\"});\n$3Dmol.download(\"pdb:3os8\", viewer_17195205051027367, {}, function() {\nviewer_17195205051027367.zoomTo();\n\tviewer_17195205051027367.setStyle({\"cartoon\": {\"color\": \"spectrum\"}});\n\tviewer_17195205051027367.setStyle({\"chain\": \"A\"},{\"cartoon\": {\"color\": \"#1f77b4\"}});\n\tviewer_17195205051027367.setStyle({\"chain\": \"B\"},{\"cartoon\": {\"color\": \"#ff7f0e\"}});\n\tviewer_17195205051027367.setStyle({\"chain\": \"C\"},{\"cartoon\": {\"color\": \"#2ca02c\"}});\n\tviewer_17195205051027367.setStyle({\"chain\": \"D\"},{\"cartoon\": {\"color\": \"#d62728\"}});\n\tviewer_17195205051027367.addSurface(1,{\"opacity\": 0.4});\nviewer_17195205051027367.render();\n})\n});\n</script>",
      "text/html": [
       "<div id=\"3dmolviewer_17195205051027367\"  style=\"position: relative; width: 800px; height: 800px;\">\n",
       "        <p id=\"3dmolwarning_17195205051027367\" style=\"background-color:#ffcccc;color:black\">3Dmol.js failed to load for some reason.  Please check your browser console for error messages.<br></p>\n",
       "        </div>\n",
       "<script>\n",
       "\n",
       "var loadScriptAsync = function(uri){\n",
       "  return new Promise((resolve, reject) => {\n",
       "    //this is to ignore the existence of requirejs amd\n",
       "    var savedexports, savedmodule;\n",
       "    if (typeof exports !== 'undefined') savedexports = exports;\n",
       "    else exports = {}\n",
       "    if (typeof module !== 'undefined') savedmodule = module;\n",
       "    else module = {}\n",
       "\n",
       "    var tag = document.createElement('script');\n",
       "    tag.src = uri;\n",
       "    tag.async = true;\n",
       "    tag.onload = () => {\n",
       "        exports = savedexports;\n",
       "        module = savedmodule;\n",
       "        resolve();\n",
       "    };\n",
       "  var firstScriptTag = document.getElementsByTagName('script')[0];\n",
       "  firstScriptTag.parentNode.insertBefore(tag, firstScriptTag);\n",
       "});\n",
       "};\n",
       "\n",
       "if(typeof $3Dmolpromise === 'undefined') {\n",
       "$3Dmolpromise = null;\n",
       "  $3Dmolpromise = loadScriptAsync('https://cdnjs.cloudflare.com/ajax/libs/3Dmol/2.1.0/3Dmol-min.js');\n",
       "}\n",
       "\n",
       "var viewer_17195205051027367 = null;\n",
       "var warn = document.getElementById(\"3dmolwarning_17195205051027367\");\n",
       "if(warn) {\n",
       "    warn.parentNode.removeChild(warn);\n",
       "}\n",
       "$3Dmolpromise.then(function() {\n",
       "viewer_17195205051027367 = $3Dmol.createViewer(document.getElementById(\"3dmolviewer_17195205051027367\"),{backgroundColor:\"white\"});\n",
       "$3Dmol.download(\"pdb:3os8\", viewer_17195205051027367, {}, function() {\n",
       "viewer_17195205051027367.zoomTo();\n",
       "\tviewer_17195205051027367.setStyle({\"cartoon\": {\"color\": \"spectrum\"}});\n",
       "\tviewer_17195205051027367.setStyle({\"chain\": \"A\"},{\"cartoon\": {\"color\": \"#1f77b4\"}});\n",
       "\tviewer_17195205051027367.setStyle({\"chain\": \"B\"},{\"cartoon\": {\"color\": \"#ff7f0e\"}});\n",
       "\tviewer_17195205051027367.setStyle({\"chain\": \"C\"},{\"cartoon\": {\"color\": \"#2ca02c\"}});\n",
       "\tviewer_17195205051027367.setStyle({\"chain\": \"D\"},{\"cartoon\": {\"color\": \"#d62728\"}});\n",
       "\tviewer_17195205051027367.addSurface(1,{\"opacity\": 0.4});\n",
       "viewer_17195205051027367.render();\n",
       "})\n",
       "});\n",
       "</script>"
      ]
     },
     "metadata": {},
     "output_type": "display_data"
    }
   ],
   "source": [
    "ID = \"3os8\" #Estrogen Receptor\n",
    "chains = ['A', 'B', 'C', 'D'] #chains of hemoglobin\n",
    "visualize_protein(ID=ID, chains=chains)"
   ]
  }
 ],
 "metadata": {
  "kernelspec": {
   "display_name": "Python 3",
   "language": "python",
   "name": "python3"
  },
  "language_info": {
   "codemirror_mode": {
    "name": "ipython",
    "version": 3
   },
   "file_extension": ".py",
   "mimetype": "text/x-python",
   "name": "python",
   "nbconvert_exporter": "python",
   "pygments_lexer": "ipython3",
   "version": "3.9.0"
  }
 },
 "nbformat": 4,
 "nbformat_minor": 2
}
